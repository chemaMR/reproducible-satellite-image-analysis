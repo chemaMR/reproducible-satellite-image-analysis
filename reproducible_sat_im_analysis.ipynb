{
 "cells": [
  {
   "cell_type": "code",
   "execution_count": 3,
   "metadata": {},
   "outputs": [
    {
     "name": "stdout",
     "output_type": "stream",
     "text": [
      "/Users/robincole/anaconda3/bin/python\n"
     ]
    }
   ],
   "source": [
    "import sys\n",
    "print(sys.executable)"
   ]
  },
  {
   "cell_type": "code",
   "execution_count": 4,
   "metadata": {},
   "outputs": [
    {
     "name": "stdout",
     "output_type": "stream",
     "text": [
      "['', '/Users/robincole/anaconda3/lib/python36.zip', '/Users/robincole/anaconda3/lib/python3.6', '/Users/robincole/anaconda3/lib/python3.6/lib-dynload', '/Users/robincole/.local/lib/python3.6/site-packages', '/Users/robincole/anaconda3/lib/python3.6/site-packages', '/Users/robincole/anaconda3/lib/python3.6/site-packages/aeosa', '/Users/robincole/Documents/Github/pymeasure', '/Users/robincole/Documents/Github/jupyter_micropython_kernel', '/Users/robincole/anaconda3/lib/python3.6/site-packages/circuitpython_kernel-0.3.1-py3.6.egg', '/Users/robincole/anaconda3/lib/python3.6/site-packages/IPython/extensions', '/Users/robincole/.ipython']\n"
     ]
    }
   ],
   "source": [
    "print(sys.path)"
   ]
  },
  {
   "cell_type": "code",
   "execution_count": 2,
   "metadata": {},
   "outputs": [],
   "source": [
    "import rasterio"
   ]
  },
  {
   "cell_type": "code",
   "execution_count": 3,
   "metadata": {},
   "outputs": [
    {
     "data": {
      "text/plain": [
       "'1.0.8'"
      ]
     },
     "execution_count": 3,
     "metadata": {},
     "output_type": "execute_result"
    }
   ],
   "source": [
    "rasterio.__version__"
   ]
  },
  {
   "cell_type": "code",
   "execution_count": 4,
   "metadata": {},
   "outputs": [
    {
     "name": "stdout",
     "output_type": "stream",
     "text": [
      "# packages in environment at /anaconda3/envs/sat_img_env:\n",
      "#\n",
      "# Name                    Version                   Build  Channel\n",
      "affine                    2.2.1                      py_0    conda-forge\n",
      "appnope                   0.1.0            py36hf537a9a_0  \n",
      "asn1crypto                0.24.0                py36_1003    conda-forge\n",
      "attrs                     18.2.0                     py_0    conda-forge\n",
      "backcall                  0.1.0                    py36_0  \n",
      "blas                      1.0                         mkl  \n",
      "boost-cpp                 1.68.0               h3a22d5f_0    conda-forge\n",
      "boto3                     1.9.62                     py_0    conda-forge\n",
      "botocore                  1.12.63                    py_0    conda-forge\n",
      "bzip2                     1.0.6                         1    conda-forge\n",
      "ca-certificates           2018.03.07                    0    anaconda\n",
      "cairo                     1.14.12              h276e583_5    conda-forge\n",
      "certifi                   2018.10.15               py36_0    anaconda\n",
      "cffi                      1.11.5           py36h5e8e0c9_1    conda-forge\n",
      "click                     7.0                        py_0    conda-forge\n",
      "click-plugins             1.0.4                      py_0    conda-forge\n",
      "cligj                     0.5.0                      py_0    conda-forge\n",
      "cryptography              2.3.1            py36hdffb7b8_0    conda-forge\n",
      "cryptography-vectors      2.3.1                 py36_1000    conda-forge\n",
      "curl                      7.62.0               h74213dd_0    conda-forge\n",
      "decorator                 4.3.0                    py36_0  \n",
      "docutils                  0.14                  py36_1001    conda-forge\n",
      "expat                     2.2.5                hfc679d8_2    conda-forge\n",
      "fontconfig                2.13.1               hce039c3_0    conda-forge\n",
      "freetype                  2.9.1                h6debe1e_4    conda-forge\n",
      "freexl                    1.0.5                h470a237_2    conda-forge\n",
      "geos                      3.6.2                hfc679d8_4    conda-forge\n",
      "geotiff                   1.4.2                h700e5ad_5    conda-forge\n",
      "gettext                   0.19.8.1             h1f1d5ed_1    conda-forge\n",
      "giflib                    5.1.4                h470a237_1    conda-forge\n",
      "glib                      2.56.2               h464dc38_1    conda-forge\n",
      "hdf4                      4.2.13               h951d187_2    conda-forge\n",
      "hdf5                      1.10.3               hc401514_2    conda-forge\n",
      "icu                       58.2                 hfc679d8_0    conda-forge\n",
      "idna                      2.8                   py36_1000    conda-forge\n",
      "intel-openmp              2019.1                      144  \n",
      "ipykernel                 5.1.0            py36h39e3cac_0  \n",
      "ipython                   7.2.0            py36h39e3cac_0  \n",
      "ipython_genutils          0.2.0            py36h241746c_0  \n",
      "jedi                      0.13.1                   py36_0  \n",
      "jmespath                  0.9.3                      py_1    conda-forge\n",
      "jpeg                      9c                   h470a237_1    conda-forge\n",
      "json-c                    0.12.1               h470a237_1    conda-forge\n",
      "jupyter_client            5.2.3                    py36_0  \n",
      "jupyter_core              4.4.0                    py36_0  \n",
      "kealib                    1.4.10               hb88cf67_0    conda-forge\n",
      "krb5                      1.16.2               hbb41f41_0    conda-forge\n",
      "libcurl                   7.62.0               hbdb9355_0    conda-forge\n",
      "libcxx                    4.0.1                hcfea43d_1  \n",
      "libcxxabi                 4.0.1                hcfea43d_1  \n",
      "libdap4                   3.19.1               h18059cb_1    conda-forge\n",
      "libedit                   3.1.20170329         hb402a30_2  \n",
      "libffi                    3.2.1                h475c297_4  \n",
      "libgdal                   2.3.2                h6a28ee2_0    conda-forge\n",
      "libgfortran               3.0.1                h93005f0_2  \n",
      "libiconv                  1.15                 h470a237_3    conda-forge\n",
      "libkml                    1.3.0                he469717_9    conda-forge\n",
      "libnetcdf                 4.6.1               h350cafa_11    conda-forge\n",
      "libpng                    1.6.36               ha92aebf_0    conda-forge\n",
      "libpq                     10.5                 hf16a0db_1    conda-forge\n",
      "libsodium                 1.0.16               h3efe00b_0  \n",
      "libspatialite             4.3.0a              h3b29d86_23    conda-forge\n",
      "libssh2                   1.8.0                h5b517e9_3    conda-forge\n",
      "libtiff                   4.0.10               he6b73bb_0    conda-forge\n",
      "libxml2                   2.9.8                h422b904_5    conda-forge\n",
      "mkl                       2018.0.3                      1  \n",
      "mkl_fft                   1.0.10                   py36_0    conda-forge\n",
      "mkl_random                1.0.2                    py36_0    conda-forge\n",
      "ncurses                   6.1                  h0a44026_1  \n",
      "numpy                     1.15.4           py36h6a91979_0  \n",
      "numpy-base                1.15.4           py36h8a80b8c_0  \n",
      "openjpeg                  2.3.0                h316dc23_3    conda-forge\n",
      "openssl                   1.0.2p               h1de35cc_0    anaconda\n",
      "parso                     0.3.1                    py36_0  \n",
      "pcre                      8.41                 hfc679d8_3    conda-forge\n",
      "pexpect                   4.6.0                    py36_0  \n",
      "pickleshare               0.7.5                    py36_0  \n",
      "pip                       18.1                     py36_0  \n",
      "pixman                    0.34.0               h470a237_3    conda-forge\n",
      "poppler                   0.67.0               hdf8a1b3_2    conda-forge\n",
      "poppler-data              0.4.9                         0    conda-forge\n",
      "postgresql                10.5                 ha408888_1    conda-forge\n",
      "proj4                     4.9.3                h470a237_8    conda-forge\n",
      "prompt_toolkit            2.0.7                    py36_0  \n",
      "ptyprocess                0.6.0                    py36_0  \n",
      "pycparser                 2.19                       py_0    conda-forge\n",
      "pygments                  2.2.0            py36h240cd3f_0  \n",
      "pyopenssl                 18.0.0                py36_1000    conda-forge\n",
      "pyparsing                 2.3.0                      py_0    conda-forge\n",
      "pysocks                   1.6.8                 py36_1002    conda-forge\n",
      "python                    3.6.6                h5001a0f_0    conda-forge\n",
      "python-dateutil           2.7.5                    py36_0  \n",
      "pyzmq                     17.1.2           py36h1de35cc_0  \n",
      "rasterio                  1.0.12           py36h54a03ab_0    conda-forge\n",
      "readline                  7.0                  h1de35cc_5  \n",
      "s3transfer                0.1.13                py36_1001    conda-forge\n",
      "scikit-learn              0.20.1           py36h4f467ca_0    anaconda\n",
      "scipy                     1.1.0            py36h28f7352_1    anaconda\n",
      "setuptools                40.6.2                   py36_0  \n",
      "six                       1.12.0                   py36_0  \n",
      "snuggs                    1.4.1                      py_1    conda-forge\n",
      "sqlite                    3.25.3               ha441bb4_0  \n",
      "tk                        8.6.8                ha441bb4_0  \n",
      "tornado                   5.1.1            py36h1de35cc_0  \n",
      "traitlets                 4.3.2            py36h65bd3ce_0  \n",
      "urllib3                   1.24.1                py36_1000    conda-forge\n",
      "wcwidth                   0.1.7            py36h8c6ec74_0  \n",
      "wheel                     0.32.3                   py36_0  \n",
      "xerces-c                  3.2.0                h5d6a6da_2    conda-forge\n",
      "xz                        5.2.4                h1de35cc_4  \n",
      "zeromq                    4.2.5                h0a44026_1  \n",
      "zlib                      1.2.11               h1de35cc_3  \n"
     ]
    }
   ],
   "source": [
    "!conda list"
   ]
  },
  {
   "cell_type": "markdown",
   "metadata": {},
   "source": [
    "Clearly still in base env.."
   ]
  },
  {
   "cell_type": "code",
   "execution_count": null,
   "metadata": {},
   "outputs": [],
   "source": []
  }
 ],
 "metadata": {
  "kernelspec": {
   "display_name": "sat_img_env",
   "language": "python",
   "name": "sat_img_env"
  },
  "language_info": {
   "codemirror_mode": {
    "name": "ipython",
    "version": 3
   },
   "file_extension": ".py",
   "mimetype": "text/x-python",
   "name": "python",
   "nbconvert_exporter": "python",
   "pygments_lexer": "ipython3",
   "version": "3.6.5"
  }
 },
 "nbformat": 4,
 "nbformat_minor": 2
}
